{
  "nbformat": 4,
  "nbformat_minor": 0,
  "metadata": {
    "colab": {
      "name": "MinecraftMobs.ipynb",
      "provenance": [],
      "collapsed_sections": [],
      "authorship_tag": "ABX9TyOzr8pFhK/VAAeaVrvu1Tim",
      "include_colab_link": true
    },
    "kernelspec": {
      "name": "python3",
      "display_name": "Python 3"
    },
    "language_info": {
      "name": "python"
    }
  },
  "cells": [
    {
      "cell_type": "markdown",
      "metadata": {
        "id": "view-in-github",
        "colab_type": "text"
      },
      "source": [
        "<a href=\"https://colab.research.google.com/github/harithamadana/Web-Scraping-MinecraftMobs/blob/main/MinecraftMobs.ipynb\" target=\"_parent\"><img src=\"https://colab.research.google.com/assets/colab-badge.svg\" alt=\"Open In Colab\"/></a>"
      ]
    },
    {
      "cell_type": "markdown",
      "source": [
        "This project is done in order to create a dataset that has information on the different minecraft mobs.\n",
        "I have considered the \"Mob\" article on the Minecraftwiki website for this project.\n",
        "Here is the link to the article: https://minecraft.fandom.com/wiki/Mob#Spawning "
      ],
      "metadata": {
        "id": "glivIRC73o0N"
      }
    },
    {
      "cell_type": "markdown",
      "source": [
        "## Step 1: Downloading the web page using \"requests\" library"
      ],
      "metadata": {
        "id": "1cjEL93w4Qm0"
      }
    },
    {
      "cell_type": "markdown",
      "source": [
        "Here we will be downloading the web page using the \"requests\" library.\n",
        "First, we will install and import it:"
      ],
      "metadata": {
        "id": "B2yyLoyR4dHa"
      }
    },
    {
      "cell_type": "code",
      "execution_count": 17,
      "metadata": {
        "id": "tKnr1OoEYi9a"
      },
      "outputs": [],
      "source": [
        "# Install the library\n",
        "!pip install requests --quiet"
      ]
    },
    {
      "cell_type": "code",
      "source": [
        "#importing requests library\n",
        "import requests"
      ],
      "metadata": {
        "id": "P8UA3MLw3oQ3"
      },
      "execution_count": 18,
      "outputs": []
    },
    {
      "cell_type": "markdown",
      "source": [
        "Now, we will download the web page using requests.get() function.\n",
        "\n",
        "Here is the syntax of this function: \n",
        "response_object= requests.get(url_of_your_page)\n",
        "\n",
        "Here is the url used: https://minecraft.fandom.com/wiki/Mob#SpawningIndex_of_Windows_games"
      ],
      "metadata": {
        "id": "WBbqFkCD4uc6"
      }
    },
    {
      "cell_type": "code",
      "source": [
        "# Downloading the web page\n",
        "url=\"https://minecraft.fandom.com/wiki/Mob#Spawning\"\n",
        "response= requests.get(url)"
      ],
      "metadata": {
        "id": "TX1V6weV4sfZ"
      },
      "execution_count": 19,
      "outputs": []
    },
    {
      "cell_type": "markdown",
      "source": [
        "response is a requests.get object that has the page contents and indication of whether execution was successful or not.\n",
        "If successful, requests.status_code gives us a value between 200 and 299"
      ],
      "metadata": {
        "id": "bvkdcNcA5dyI"
      }
    },
    {
      "cell_type": "code",
      "source": [
        "response.status_code"
      ],
      "metadata": {
        "colab": {
          "base_uri": "https://localhost:8080/"
        },
        "id": "7ULrgRYc5cL3",
        "outputId": "9d6442a4-78d0-45c1-db91-ea44aab348af"
      },
      "execution_count": 20,
      "outputs": [
        {
          "output_type": "execute_result",
          "data": {
            "text/plain": [
              "200"
            ]
          },
          "metadata": {},
          "execution_count": 20
        }
      ]
    },
    {
      "cell_type": "markdown",
      "source": [
        "Web page download was successful!\n",
        "\n",
        "Now we can view the contents of the web page using response.text\n",
        "\n",
        "Note: The \"contents\" referred to here is the source code which is in HTML"
      ],
      "metadata": {
        "id": "JrVKgxnV505q"
      }
    },
    {
      "cell_type": "code",
      "source": [
        "source_code=response.text\n",
        "len(source_code)"
      ],
      "metadata": {
        "colab": {
          "base_uri": "https://localhost:8080/"
        },
        "id": "2u-2brwY5yGQ",
        "outputId": "76d24aa5-7434-48f6-846d-9a0fd84dd2b1"
      },
      "execution_count": 21,
      "outputs": [
        {
          "output_type": "execute_result",
          "data": {
            "text/plain": [
              "920224"
            ]
          },
          "metadata": {},
          "execution_count": 21
        }
      ]
    },
    {
      "cell_type": "markdown",
      "source": [
        "That's so many characters! In order to examine the contents, let's view the first 3000 characters"
      ],
      "metadata": {
        "id": "oSIENrS16W3n"
      }
    },
    {
      "cell_type": "code",
      "source": [
        "source_code[0:3000]"
      ],
      "metadata": {
        "colab": {
          "base_uri": "https://localhost:8080/",
          "height": 158
        },
        "id": "QbcUCzlO6CeV",
        "outputId": "434ac2f4-01cd-4caf-fa52-cb2ed250a313"
      },
      "execution_count": 26,
      "outputs": [
        {
          "output_type": "execute_result",
          "data": {
            "text/plain": [
              "'<!DOCTYPE html>\\n<html class=\"client-nojs\" lang=\"en\" dir=\"ltr\">\\n<head>\\n<meta charset=\"UTF-8\"/>\\n<title>Mob – Minecraft Wiki</title>\\n<script>document.documentElement.className=\"client-js\";RLCONF={\"wgBreakFrames\":!1,\"wgSeparatorTransformTable\":[\"\",\"\"],\"wgDigitTransformTable\":[\"\",\"\"],\"wgDefaultDateFormat\":\"dmy\",\"wgMonthNames\":[\"\",\"January\",\"February\",\"March\",\"April\",\"May\",\"June\",\"July\",\"August\",\"September\",\"October\",\"November\",\"December\"],\"wgRequestId\":\"4bfd802caaef7e03\",\"wgCSPNonce\":!1,\"wgCanonicalNamespace\":\"\",\"wgCanonicalSpecialPageName\":!1,\"wgNamespaceNumber\":0,\"wgPageName\":\"Mob\",\"wgTitle\":\"Mob\",\"wgCurRevisionId\":2149285,\"wgRevisionId\":2149285,\"wgArticleId\":75972,\"wgIsArticle\":!0,\"wgIsRedirect\":!1,\"wgAction\":\"view\",\"wgUserName\":null,\"wgUserGroups\":[\"*\"],\"wgCategories\":[\"Upcoming\",\"Java Edition upcoming tag\",\"Verify\",\"Pages with videos\",\"Entities\",\"Environment\",\"Mobs\"],\"wgPageContentLanguage\":\"en\",\"wgPageContentModel\":\"wikitext\",\"wgRelevantPageName\":\"Mob\",\"wgRelevantArticleId\":75972,\"wgIsProbablyEditable\":!1,\"wgRelevantPageIsProbablyEditable\":!1,\"wgRestrictionEdit\":[\"autoconfirmed\"],\"wgRestrictionMove\":\\n[\"autoconfirmed\"],\"wgNoExternals\":!1,\"wgArticleInterlangList\":[\"cs:Stvoření\",\"de:Kreatur\",\"el:Mob\",\"es:Criatura\",\"fr:Créatures\",\"hu:Teremtmény\",\"it:Mob\",\"ja:Mob\",\"ko:몹\",\"nl:Wezen\",\"pl:Moby\",\"pt:Criatura\",\"ru:Мобы\",\"th:ม็อบ\",\"tr:Mob\",\"uk:Моби\",\"zh:生物\"],\"wikiaPageType\":\"article\",\"isDarkTheme\":!1,\"wgVisualEditor\":{\"pageLanguageCode\":\"en\",\"pageLanguageDir\":\"ltr\",\"pageVariantFallbacks\":\"en\"},\"wgIsTestModeEnabled\":!1,\"wgEnableLightboxExt\":!0,\"wgMFDisplayWikibaseDescriptions\":{\"search\":!1,\"nearby\":!1,\"watchlist\":!1,\"tagline\":!1},\"egMapsScriptPath\":\"/extensions-ucp/v2/Maps/\",\"egMapsDebugJS\":!1,\"egMapsAvailableServices\":[\"leaflet\",\"googlemaps3\"],\"egMapsLeafletLayersApiKeys\":{\"MapBox\":\"\",\"MapQuestOpen\":\"\",\"Thunderforest\":\"\",\"GeoportailFrance\":\"\"},\"wgDisableCMSNotifications\":!0,\"wgEditSubmitButtonLabelPublish\":!1,\"egFacebookAppId\":\"112328095453510\",\"comscoreKeyword\":\"wikiacsid_games\",\"quantcastLabels\":\\n\"Genre.openworld,Genre.adventure,Genre.cartoon,Genre.sim,Genre.puzzle,Genre.platformer,Genre.mmo,Genre.casual,Genre.esports,Genre.fantasy,Genre.free2play,Genre.facebook,Genre.strategy,Genre.action,Genre.survival,Genre.indie,Genre.sandbox,Genre.shooter,Genre.fighting,Media.movies,Media.games,Media.web,Media.comics,Media.books,Theme.dragon,Theme.zombie,Theme.monster,Theme.heroes,Theme.sword,Theme.toy,Theme.magic\",\"wgCategorySelect\":{\"defaultNamespace\":\"Category\",\"defaultNamespaces\":\"Category\"},\"wgEnableDiscussions\":!1,\"viewTrackURL\":\"https://beacon.wikia-services.com/__track/view?a=75972\\\\u0026n=0\\\\u0026env=prod\\\\u0026c=2294461\\\\u0026lc=en\\\\u0026lid=75\\\\u0026x=minecraft_gamepedia\\\\u0026s=ucp_desktop\\\\u0026mobile_theme=fandom-light\\\\u0026rollout_tracking=mw137\",\"viewTrackUrlPrefix\":\\n\"https://beacon.wikia-services.com/__track/view?a=75972\\\\u0026n=0\\\\u0026env=prod\\\\u0026c=2294461\\\\u0026lc=en\\\\u0026lid=75\\\\u0026x=minecraft_gamepedia\\\\u0026s=ucp_desktop\\\\u0026mobile_theme=fandom-light\\\\'"
            ],
            "application/vnd.google.colaboratory.intrinsic+json": {
              "type": "string"
            }
          },
          "metadata": {},
          "execution_count": 26
        }
      ]
    },
    {
      "cell_type": "markdown",
      "source": [
        "In order to make this code better to read, I will be saving it as an html file and opening it on colab- which is where I'm running it right now."
      ],
      "metadata": {
        "id": "-b1cTHut7EpX"
      }
    },
    {
      "cell_type": "code",
      "source": [
        "with open('minecraft_mobs.html', 'w', encoding=\"utf-8\") as file:\n",
        "    file.write(source_code)"
      ],
      "metadata": {
        "id": "m2KueNEo6jeE"
      },
      "execution_count": 27,
      "outputs": []
    },
    {
      "cell_type": "markdown",
      "source": [
        "## Step 2: Extracting information from the page using the \"BeautifulSoup\" library"
      ],
      "metadata": {
        "id": "6T0638V5bWFn"
      }
    },
    {
      "cell_type": "markdown",
      "source": [
        "Installation and importing the library:"
      ],
      "metadata": {
        "id": "U9NLQ8NHbkZH"
      }
    },
    {
      "cell_type": "code",
      "source": [
        "!pip install beautifulsoup4 --quiet"
      ],
      "metadata": {
        "id": "Sb0dmSD5beHX"
      },
      "execution_count": 28,
      "outputs": []
    },
    {
      "cell_type": "code",
      "source": [
        "from bs4 import BeautifulSoup"
      ],
      "metadata": {
        "id": "TuHs3AhGbsZn"
      },
      "execution_count": 29,
      "outputs": []
    },
    {
      "cell_type": "markdown",
      "source": [
        "Reading the contents of \"minecraft_mobs.html\" and creating an object of BeautifulSoup class for parsing it:"
      ],
      "metadata": {
        "id": "4rH2eYbtb3um"
      }
    },
    {
      "cell_type": "code",
      "source": [
        "with open(\"minecraft_mobs.html\", \"r\") as file_source:\n",
        "  source_code_html= file_source.read()"
      ],
      "metadata": {
        "id": "u4Hd7etAbxYX"
      },
      "execution_count": 31,
      "outputs": []
    },
    {
      "cell_type": "code",
      "source": [
        "source_code_html[:3000]"
      ],
      "metadata": {
        "colab": {
          "base_uri": "https://localhost:8080/",
          "height": 158
        },
        "id": "QAPJ-k73cOnv",
        "outputId": "0d47925f-7fc8-4f38-d446-332a53e19d7d"
      },
      "execution_count": 32,
      "outputs": [
        {
          "output_type": "execute_result",
          "data": {
            "text/plain": [
              "'<!DOCTYPE html>\\n<html class=\"client-nojs\" lang=\"en\" dir=\"ltr\">\\n<head>\\n<meta charset=\"UTF-8\"/>\\n<title>Mob – Minecraft Wiki</title>\\n<script>document.documentElement.className=\"client-js\";RLCONF={\"wgBreakFrames\":!1,\"wgSeparatorTransformTable\":[\"\",\"\"],\"wgDigitTransformTable\":[\"\",\"\"],\"wgDefaultDateFormat\":\"dmy\",\"wgMonthNames\":[\"\",\"January\",\"February\",\"March\",\"April\",\"May\",\"June\",\"July\",\"August\",\"September\",\"October\",\"November\",\"December\"],\"wgRequestId\":\"4bfd802caaef7e03\",\"wgCSPNonce\":!1,\"wgCanonicalNamespace\":\"\",\"wgCanonicalSpecialPageName\":!1,\"wgNamespaceNumber\":0,\"wgPageName\":\"Mob\",\"wgTitle\":\"Mob\",\"wgCurRevisionId\":2149285,\"wgRevisionId\":2149285,\"wgArticleId\":75972,\"wgIsArticle\":!0,\"wgIsRedirect\":!1,\"wgAction\":\"view\",\"wgUserName\":null,\"wgUserGroups\":[\"*\"],\"wgCategories\":[\"Upcoming\",\"Java Edition upcoming tag\",\"Verify\",\"Pages with videos\",\"Entities\",\"Environment\",\"Mobs\"],\"wgPageContentLanguage\":\"en\",\"wgPageContentModel\":\"wikitext\",\"wgRelevantPageName\":\"Mob\",\"wgRelevantArticleId\":75972,\"wgIsProbablyEditable\":!1,\"wgRelevantPageIsProbablyEditable\":!1,\"wgRestrictionEdit\":[\"autoconfirmed\"],\"wgRestrictionMove\":\\n[\"autoconfirmed\"],\"wgNoExternals\":!1,\"wgArticleInterlangList\":[\"cs:Stvoření\",\"de:Kreatur\",\"el:Mob\",\"es:Criatura\",\"fr:Créatures\",\"hu:Teremtmény\",\"it:Mob\",\"ja:Mob\",\"ko:몹\",\"nl:Wezen\",\"pl:Moby\",\"pt:Criatura\",\"ru:Мобы\",\"th:ม็อบ\",\"tr:Mob\",\"uk:Моби\",\"zh:生物\"],\"wikiaPageType\":\"article\",\"isDarkTheme\":!1,\"wgVisualEditor\":{\"pageLanguageCode\":\"en\",\"pageLanguageDir\":\"ltr\",\"pageVariantFallbacks\":\"en\"},\"wgIsTestModeEnabled\":!1,\"wgEnableLightboxExt\":!0,\"wgMFDisplayWikibaseDescriptions\":{\"search\":!1,\"nearby\":!1,\"watchlist\":!1,\"tagline\":!1},\"egMapsScriptPath\":\"/extensions-ucp/v2/Maps/\",\"egMapsDebugJS\":!1,\"egMapsAvailableServices\":[\"leaflet\",\"googlemaps3\"],\"egMapsLeafletLayersApiKeys\":{\"MapBox\":\"\",\"MapQuestOpen\":\"\",\"Thunderforest\":\"\",\"GeoportailFrance\":\"\"},\"wgDisableCMSNotifications\":!0,\"wgEditSubmitButtonLabelPublish\":!1,\"egFacebookAppId\":\"112328095453510\",\"comscoreKeyword\":\"wikiacsid_games\",\"quantcastLabels\":\\n\"Genre.openworld,Genre.adventure,Genre.cartoon,Genre.sim,Genre.puzzle,Genre.platformer,Genre.mmo,Genre.casual,Genre.esports,Genre.fantasy,Genre.free2play,Genre.facebook,Genre.strategy,Genre.action,Genre.survival,Genre.indie,Genre.sandbox,Genre.shooter,Genre.fighting,Media.movies,Media.games,Media.web,Media.comics,Media.books,Theme.dragon,Theme.zombie,Theme.monster,Theme.heroes,Theme.sword,Theme.toy,Theme.magic\",\"wgCategorySelect\":{\"defaultNamespace\":\"Category\",\"defaultNamespaces\":\"Category\"},\"wgEnableDiscussions\":!1,\"viewTrackURL\":\"https://beacon.wikia-services.com/__track/view?a=75972\\\\u0026n=0\\\\u0026env=prod\\\\u0026c=2294461\\\\u0026lc=en\\\\u0026lid=75\\\\u0026x=minecraft_gamepedia\\\\u0026s=ucp_desktop\\\\u0026mobile_theme=fandom-light\\\\u0026rollout_tracking=mw137\",\"viewTrackUrlPrefix\":\\n\"https://beacon.wikia-services.com/__track/view?a=75972\\\\u0026n=0\\\\u0026env=prod\\\\u0026c=2294461\\\\u0026lc=en\\\\u0026lid=75\\\\u0026x=minecraft_gamepedia\\\\u0026s=ucp_desktop\\\\u0026mobile_theme=fandom-light\\\\'"
            ],
            "application/vnd.google.colaboratory.intrinsic+json": {
              "type": "string"
            }
          },
          "metadata": {},
          "execution_count": 32
        }
      ]
    },
    {
      "cell_type": "code",
      "source": [
        ""
      ],
      "metadata": {
        "id": "QQ-lKDP2cTZe"
      },
      "execution_count": null,
      "outputs": []
    }
  ]
}